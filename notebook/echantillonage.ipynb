{
 "cells": [
  {
   "cell_type": "markdown",
   "id": "0b00d080",
   "metadata": {},
   "source": [
    "# Echantilloner le jeu de donnees"
   ]
  },
  {
   "cell_type": "code",
   "execution_count": 1,
   "id": "86cfa1e4",
   "metadata": {},
   "outputs": [],
   "source": [
    "import pandas as pd\n",
    "import os"
   ]
  },
  {
   "cell_type": "code",
   "execution_count": 9,
   "id": "900fb4d3",
   "metadata": {},
   "outputs": [],
   "source": [
    "root = \"/var/tmp/csv\""
   ]
  },
  {
   "cell_type": "code",
   "execution_count": 11,
   "id": "d45ef7df",
   "metadata": {},
   "outputs": [
    {
     "name": "stdout",
     "output_type": "stream",
     "text": [
      "total 130G\n",
      "-rw-rw-r-- 1 1004 1014   49G févr. 21 07:02 parcelle.csv\n",
      "-rw-rw-r-- 1 1004 1014   12G févr. 21 03:44 batiment_construction.csv\n",
      "-rw-rw-r-- 1 1004 1014   12G févr. 21 07:47 dpe_logement.csv\n",
      "-rw-rw-r-- 1 1004 1014  9,3G févr. 21 04:15 batiment_groupe.csv\n",
      "-rw-rw-r-- 1 1004 1014  4,8G févr. 21 03:02 rel_batiment_construction_adresse.csv\n",
      "-rw-rw-r-- 1 1004 1014  4,3G févr. 21 03:12 rel_batiment_groupe_adresse.csv\n",
      "-rw-rw-r-- 1 1004 1014  3,9G févr. 21 04:42 batiment_groupe_dpe_representatif_logement.csv\n",
      "-rw-rw-r-- 1 1004 1014  3,7G févr. 21 02:48 adresse.csv\n",
      "-rw-rw-r-- 1 1004 1014  3,6G févr. 21 04:19 batiment_groupe_adresse.csv\n",
      "-rw-rw-r-- 1 1004 1014  3,5G févr. 21 04:29 batiment_groupe_bdtopo_bat.csv\n",
      "-rw-rw-r-- 1 1004 1014  3,3G févr. 21 07:59 rel_batiment_groupe_bdtopo_bat.csv\n",
      "-rw-rw-r-- 1 1004 1014  3,3G févr. 21 07:54 rel_batiment_construction_rnb.csv\n",
      "-rw-rw-r-- 1 1004 1014  2,6G févr. 21 08:02 rel_batiment_groupe_dpe_logement.csv\n",
      "-rw-rw-r-- 1 1004 1014  2,1G févr. 21 08:08 rel_batiment_groupe_merimee.csv\n",
      "-rw-rw-r-- 1 1004 1014  1,7G févr. 21 04:55 batiment_groupe_ffo_bat.csv\n",
      "-rw-rw-r-- 1 1004 1014  1,5G févr. 21 05:09 batiment_groupe_synthese_propriete_usage.csv\n",
      "-rw-rw-r-- 1 1004 1014  1,5G févr. 21 07:07 rel_batiment_groupe_parcelle.csv\n",
      "-rw-rw-r-- 1 1004 1014  1,3G févr. 21 04:59 batiment_groupe_geospx.csv\n",
      "-rw-rw-r-- 1 1004 1014  1,1G févr. 21 05:02 batiment_groupe_hthd.csv\n",
      "-rw-rw-r-- 1 1004 1014  1,1G févr. 21 05:05 batiment_groupe_radon.csv\n",
      "-rw-rw-r-- 1 1004 1014  962M févr. 21 08:04 rel_batiment_groupe_dvf_open.csv\n",
      "-rw-rw-r-- 1 1004 1014  848M févr. 21 04:21 batiment_groupe_argiles.csv\n",
      "-rw-rw-r-- 1 1004 1014  690M févr. 21 04:46 batiment_groupe_dvf_open_representatif.csv\n",
      "-rw-rw-r-- 1 1004 1014  624M févr. 21 08:10 sitadel.csv\n",
      "-rw-rw-r-- 1 1004 1014  621M févr. 21 04:49 batiment_groupe_dvf_open_statistique.csv\n",
      "-rw-rw-r-- 1 1004 1014  463M févr. 21 02:50 adresse_metrique.csv\n",
      "-rw-rw-r-- 1 1004 1014  452M févr. 21 07:04 parcelle_sitadel.csv\n",
      "-rw-rw-r-- 1 1004 1014  358M févr. 21 05:03 batiment_groupe_merimee.csv\n",
      "-rw-rw-r-- 1 1004 1014  284M févr. 21 04:30 batiment_groupe_dle_elec_multimillesime.csv\n",
      "-rw-rw-r-- 1 1004 1014  279M févr. 21 04:44 batiment_groupe_dpe_statistique_logement.csv\n",
      "-rw-rw-r-- 1 1004 1014  192M févr. 21 08:09 rel_parcelle_sitadel.csv\n",
      "-rw-rw-r-- 1 1004 1014  151M févr. 21 07:10 rel_batiment_groupe_proprietaire.csv\n",
      "-rw-rw-r-- 1 1004 1014  131M févr. 21 07:08 proprietaire.csv\n",
      "-rw-rw-r-- 1 1004 1014  131M févr. 21 07:59 rel_batiment_groupe_bdtopo_zoa.csv\n",
      "-rw-rw-r-- 1 1004 1014  100M févr. 21 08:08 rel_batiment_groupe_rnc.csv\n",
      "-rw-rw-r-- 1 1004 1014   87M févr. 21 05:06 batiment_groupe_rnc.csv\n",
      "-rw-rw-r-- 1 1004 1014   78M févr. 21 04:30 batiment_groupe_dle_gaz_multimillesime.csv\n",
      "-rw-rw-r-- 1 1004 1014   75M févr. 21 04:29 batiment_groupe_bdtopo_zoac.csv\n",
      "-rw-rw-r-- 1 1004 1014   53M févr. 21 07:59 rel_batiment_groupe_bpe.csv\n",
      "-rw-rw-r-- 1 1004 1014   46M févr. 21 05:06 batiment_groupe_rpls.csv\n",
      "-rw-rw-r-- 1 1004 1014   38M févr. 21 04:29 batiment_groupe_bpe.csv\n",
      "-rw-rw-r-- 1 1004 1014   36M févr. 21 08:08 rel_batiment_groupe_qpv.csv\n",
      "-rw-rw-r-- 1 1004 1014   22M févr. 21 05:02 batiment_groupe_indicateur_reseau_chaud_froid.csv\n",
      "-rw-rw-r-- 1 1004 1014   21M févr. 21 05:03 batiment_groupe_qpv.csv\n",
      "-rw-rw-r-- 1 1004 1014  1,3M févr. 21 07:59 rel_batiment_groupe_bdtopo_equ.csv\n",
      "-rw-rw-r-- 1 1004 1014 1003K févr. 21 04:30 batiment_groupe_dle_reseaux_multimillesime.csv\n",
      "-rw-rw-r-- 1 1004 1014  712K févr. 21 04:29 batiment_groupe_bdtopo_equ.csv\n",
      "-rw-rw-r-- 1 1004 1014   848 févr. 21 04:30 batiment_groupe_dpe_representatif_logement.csvt\n",
      "-rw-rw-r-- 1 1004 1014   837 févr. 21 07:10 dpe_logement.csvt\n",
      "-rw-rw-r-- 1 1004 1014   682 févr. 21 02:41 adresse.prj\n",
      "-rw-rw-r-- 1 1004 1014   682 févr. 21 03:12 batiment_construction.prj\n",
      "-rw-rw-r-- 1 1004 1014   682 févr. 21 03:44 batiment_groupe.prj\n",
      "-rw-rw-r-- 1 1004 1014   682 févr. 21 05:09 parcelle.prj\n",
      "-rw-rw-r-- 1 1004 1014   682 févr. 21 02:50 rel_batiment_construction_adresse.prj\n",
      "-rw-rw-r-- 1 1004 1014   682 févr. 21 07:47 rel_batiment_construction_rnb.prj\n",
      "-rw-rw-r-- 1 1004 1014   682 févr. 21 03:02 rel_batiment_groupe_adresse.prj\n",
      "-rw-rw-r-- 1 1004 1014   434 févr. 21 07:02 parcelle_sitadel.csvt\n",
      "-rw-rw-r-- 1 1004 1014   406 févr. 21 08:09 sitadel.csvt\n",
      "-rw-rw-r-- 1 1004 1014   206 févr. 21 05:06 batiment_groupe_rpls.csvt\n",
      "-rw-rw-r-- 1 1004 1014   160 févr. 21 04:30 batiment_groupe_dle_reseaux_multimillesime.csvt\n",
      "-rw-rw-r-- 1 1004 1014   141 févr. 21 04:42 batiment_groupe_dpe_statistique_logement.csvt\n",
      "-rw-rw-r-- 1 1004 1014   130 févr. 21 04:29 batiment_groupe_dle_elec_multimillesime.csvt\n",
      "-rw-rw-r-- 1 1004 1014   130 févr. 21 04:30 batiment_groupe_dle_gaz_multimillesime.csvt\n",
      "-rw-rw-r-- 1 1004 1014   129 févr. 21 04:46 batiment_groupe_dvf_open_statistique.csvt\n",
      "-rw-rw-r-- 1 1004 1014   125 févr. 21 04:44 batiment_groupe_dvf_open_representatif.csvt\n",
      "-rw-rw-r-- 1 1004 1014   121 févr. 21 05:05 batiment_groupe_rnc.csvt\n",
      "-rw-rw-r-- 1 1004 1014   105 févr. 21 04:21 batiment_groupe_bdtopo_bat.csvt\n",
      "-rw-rw-r-- 1 1004 1014    97 févr. 21 07:07 proprietaire.csvt\n",
      "-rw-rw-r-- 1 1004 1014    91 févr. 21 02:41 adresse.csvt\n",
      "-rw-rw-r-- 1 1004 1014    91 févr. 21 03:12 batiment_construction.csvt\n",
      "-rw-rw-r-- 1 1004 1014    84 févr. 21 03:44 batiment_groupe.csvt\n",
      "-rw-rw-r-- 1 1004 1014    77 févr. 21 08:02 rel_batiment_groupe_dvf_open.csvt\n",
      "-rw-rw-r-- 1 1004 1014    75 févr. 21 04:55 batiment_groupe_geospx.csvt\n",
      "-rw-rw-r-- 1 1004 1014    70 févr. 21 08:08 rel_batiment_groupe_rnc.csvt\n",
      "-rw-rw-r-- 1 1004 1014    66 févr. 21 04:29 batiment_groupe_bdtopo_equ.csvt\n",
      "-rw-rw-r-- 1 1004 1014    66 févr. 21 04:29 batiment_groupe_bdtopo_zoac.csvt\n",
      "-rw-rw-r-- 1 1004 1014    66 févr. 21 04:49 batiment_groupe_ffo_bat.csvt\n",
      "-rw-rw-r-- 1 1004 1014    63 févr. 21 03:02 rel_batiment_groupe_adresse.csvt\n",
      "-rw-rw-r-- 1 1004 1014    63 févr. 21 08:08 rel_parcelle_sitadel.csvt\n",
      "-rw-rw-r-- 1 1004 1014    62 févr. 21 04:59 batiment_groupe_hthd.csvt\n",
      "-rw-rw-r-- 1 1004 1014    61 févr. 21 02:50 rel_batiment_construction_adresse.csvt\n",
      "-rw-rw-r-- 1 1004 1014    59 févr. 21 05:02 batiment_groupe_indicateur_reseau_chaud_froid.csvt\n",
      "-rw-rw-r-- 1 1004 1014    57 févr. 21 04:15 batiment_groupe_adresse.csvt\n",
      "-rw-rw-r-- 1 1004 1014    56 févr. 21 07:59 rel_batiment_groupe_dpe_logement.csvt\n",
      "-rw-rw-r-- 1 1004 1014    56 févr. 21 07:08 rel_batiment_groupe_proprietaire.csvt\n",
      "-rw-rw-r-- 1 1004 1014    50 févr. 21 08:04 rel_batiment_groupe_merimee.csvt\n",
      "-rw-rw-r-- 1 1004 1014    49 févr. 21 07:04 rel_batiment_groupe_parcelle.csvt\n",
      "-rw-rw-r-- 1 1004 1014    43 févr. 21 05:02 batiment_groupe_merimee.csvt\n",
      "-rw-rw-r-- 1 1004 1014    40 févr. 21 05:09 parcelle.csvt\n",
      "-rw-rw-r-- 1 1004 1014    36 févr. 21 04:29 batiment_groupe_bpe.csvt\n",
      "-rw-rw-r-- 1 1004 1014    35 févr. 21 07:54 rel_batiment_groupe_bdtopo_bat.csvt\n",
      "-rw-rw-r-- 1 1004 1014    35 févr. 21 07:59 rel_batiment_groupe_bdtopo_equ.csvt\n",
      "-rw-rw-r-- 1 1004 1014    35 févr. 21 07:59 rel_batiment_groupe_bdtopo_zoa.csvt\n",
      "-rw-rw-r-- 1 1004 1014    35 févr. 21 07:59 rel_batiment_groupe_bpe.csvt\n",
      "-rw-rw-r-- 1 1004 1014    35 févr. 21 08:08 rel_batiment_groupe_qpv.csvt\n",
      "-rw-rw-r-- 1 1004 1014    33 févr. 21 02:48 adresse_metrique.csvt\n",
      "-rw-rw-r-- 1 1004 1014    28 févr. 21 04:19 batiment_groupe_argiles.csvt\n",
      "-rw-rw-r-- 1 1004 1014    28 févr. 21 05:03 batiment_groupe_qpv.csvt\n",
      "-rw-rw-r-- 1 1004 1014    28 févr. 21 05:03 batiment_groupe_radon.csvt\n",
      "-rw-rw-r-- 1 1004 1014    28 févr. 21 05:06 batiment_groupe_synthese_propriete_usage.csvt\n",
      "-rw-rw-r-- 1 1004 1014    28 févr. 21 07:47 rel_batiment_construction_rnb.csvt\n"
     ]
    }
   ],
   "source": [
    "! ls -lhS /var/tmp/csv"
   ]
  },
  {
   "cell_type": "code",
   "execution_count": 12,
   "id": "8e172d12",
   "metadata": {},
   "outputs": [
    {
     "name": "stdout",
     "output_type": "stream",
     "text": [
      "93123688 /var/tmp/csv/parcelle.csv\n"
     ]
    }
   ],
   "source": [
    "! wc -l /var/tmp/csv/parcelle.csv"
   ]
  },
  {
   "cell_type": "code",
   "execution_count": 13,
   "id": "e9c750b0",
   "metadata": {},
   "outputs": [
    {
     "name": "stdout",
     "output_type": "stream",
     "text": [
      "46575225 /var/tmp/csv/batiment_construction.csv\n"
     ]
    }
   ],
   "source": [
    "! wc -l /var/tmp/csv/batiment_construction.csv"
   ]
  },
  {
   "cell_type": "code",
   "execution_count": 14,
   "id": "7ba50038",
   "metadata": {},
   "outputs": [
    {
     "name": "stdout",
     "output_type": "stream",
     "text": [
      "15490856 /var/tmp/csv/dpe_logement.csv\n"
     ]
    }
   ],
   "source": [
    "! wc -l /var/tmp/csv/dpe_logement.csv"
   ]
  },
  {
   "cell_type": "markdown",
   "id": "7e0fe729",
   "metadata": {},
   "source": [
    "On va prendre 50k lignes pour le plus gros fichiers, calculer le pourcentage que cela represente. On prendra le meme pourcentage pour tous les autres fichiers"
   ]
  },
  {
   "cell_type": "code",
   "execution_count": 25,
   "id": "9a4cb705",
   "metadata": {},
   "outputs": [
    {
     "name": "stdout",
     "output_type": "stream",
     "text": [
      "Le pourcentage d'echantillonage: 0.1\n"
     ]
    }
   ],
   "source": [
    "print(f\"Le pourcentage d'echantillonage: {round(50_000/93123688,3)*100}\")"
   ]
  },
  {
   "cell_type": "markdown",
   "id": "0505da8b",
   "metadata": {},
   "source": [
    "Donc 50k de lignes pour le plus gros fichier represente environ 0.1%. On prendra peut-etre un peu plus pour les autres fichier csv"
   ]
  },
  {
   "cell_type": "code",
   "execution_count": 33,
   "id": "62d249d9",
   "metadata": {},
   "outputs": [],
   "source": [
    "\n",
    "def sample_file(    \n",
    "        csv_file:str,\n",
    "        ouput_dir:str,\n",
    "        chunksize:int = 100_000,\n",
    "        fraction:int = 0.1\n",
    "    ):\n",
    "    \"\"\" echantillone un fichier csv (dataset) \"\"\"\n",
    "    \n",
    "    echantillons = []\n",
    "    \n",
    "    for chunk in pd.read_csv(csv_file, chunksize=chunksize):\n",
    "    \n",
    "        echantillon = chunk.sample(frac=fraction, random_state=42)\n",
    "        echantillons.append(echantillon)\n",
    "\n",
    "    df_echantillonne = pd.concat(echantillons, ignore_index=True)\n",
    "\n",
    "    name_file = csv_file.split('/')[-1]\n",
    "    df_echantillonne.to_csv(os.path.join(ouput_dir, name_file), index=False)\n",
    "\n"
   ]
  },
  {
   "cell_type": "code",
   "execution_count": 29,
   "id": "4d7bb698",
   "metadata": {},
   "outputs": [],
   "source": [
    "sample_file('/var/tmp/csv/parcelle.csv', '/var/tmp/csv_sample')"
   ]
  },
  {
   "cell_type": "code",
   "execution_count": null,
   "id": "5634ab3b",
   "metadata": {},
   "outputs": [],
   "source": []
  },
  {
   "cell_type": "code",
   "execution_count": 34,
   "id": "2dc490ce",
   "metadata": {},
   "outputs": [],
   "source": [
    "def sample_directory(\n",
    "        directory:str, \n",
    "        output_directory:str, \n",
    "        chunsize:int = 100_000,\n",
    "        sample_percentage:int=.1):\n",
    "    \"\"\"echantillonne tous les fichier csv du repertoire\"\"\"\n",
    "\n",
    "    for f in os.listdir(directory):\n",
    "        \n",
    "        if f.endswith('.csv') and os.path.isfile(os.path.join(directory, f)):\n",
    "            print(f\"sampling file {f} ...\")\n",
    "            \n",
    "            sample_file(csv_file=os.path.join(directory, f), \n",
    "                        ouput_dir=output_directory, \n",
    "                        chunksize=chunsize, \n",
    "                        fraction=sample_percentage)\n",
    "\n"
   ]
  },
  {
   "cell_type": "code",
   "execution_count": 35,
   "id": "02b8b283",
   "metadata": {},
   "outputs": [
    {
     "name": "stdout",
     "output_type": "stream",
     "text": [
      "sampling file batiment_groupe_bdtopo_equ.csv ...\n",
      "sampling file batiment_groupe_synthese_propriete_usage.csv ...\n",
      "sampling file rel_batiment_groupe_proprietaire.csv ...\n",
      "sampling file rel_batiment_groupe_bdtopo_bat.csv ...\n",
      "sampling file rel_batiment_groupe_parcelle.csv ...\n",
      "sampling file rel_batiment_groupe_adresse.csv ...\n",
      "sampling file batiment_groupe_ffo_bat.csv ...\n",
      "sampling file adresse_metrique.csv ...\n",
      "sampling file batiment_groupe_bpe.csv ...\n",
      "sampling file batiment_groupe_indicateur_reseau_chaud_froid.csv ...\n",
      "sampling file batiment_groupe_dpe_statistique_logement.csv ...\n"
     ]
    },
    {
     "name": "stderr",
     "output_type": "stream",
     "text": [
      "/tmp/ipykernel_13234/740806287.py:11: DtypeWarning: Columns (1) have mixed types. Specify dtype option on import or set low_memory=False.\n",
      "  for chunk in pd.read_csv(csv_file, chunksize=chunksize):\n"
     ]
    },
    {
     "name": "stdout",
     "output_type": "stream",
     "text": [
      "sampling file proprietaire.csv ...\n"
     ]
    },
    {
     "name": "stderr",
     "output_type": "stream",
     "text": [
      "/tmp/ipykernel_13234/740806287.py:11: DtypeWarning: Columns (2) have mixed types. Specify dtype option on import or set low_memory=False.\n",
      "  for chunk in pd.read_csv(csv_file, chunksize=chunksize):\n"
     ]
    },
    {
     "name": "stdout",
     "output_type": "stream",
     "text": [
      "sampling file batiment_groupe_dvf_open_statistique.csv ...\n",
      "sampling file batiment_groupe.csv ...\n"
     ]
    },
    {
     "name": "stderr",
     "output_type": "stream",
     "text": [
      "/tmp/ipykernel_13234/740806287.py:11: DtypeWarning: Columns (7) have mixed types. Specify dtype option on import or set low_memory=False.\n",
      "  for chunk in pd.read_csv(csv_file, chunksize=chunksize):\n",
      "/tmp/ipykernel_13234/740806287.py:11: DtypeWarning: Columns (2,4,5) have mixed types. Specify dtype option on import or set low_memory=False.\n",
      "  for chunk in pd.read_csv(csv_file, chunksize=chunksize):\n",
      "/tmp/ipykernel_13234/740806287.py:11: DtypeWarning: Columns (7) have mixed types. Specify dtype option on import or set low_memory=False.\n",
      "  for chunk in pd.read_csv(csv_file, chunksize=chunksize):\n"
     ]
    },
    {
     "name": "stdout",
     "output_type": "stream",
     "text": [
      "sampling file batiment_groupe_argiles.csv ...\n",
      "sampling file batiment_groupe_dle_gaz_multimillesime.csv ...\n",
      "sampling file rel_batiment_construction_rnb.csv ...\n",
      "sampling file batiment_groupe_dle_elec_multimillesime.csv ...\n",
      "sampling file batiment_groupe_radon.csv ...\n",
      "sampling file adresse.csv ...\n"
     ]
    },
    {
     "name": "stderr",
     "output_type": "stream",
     "text": [
      "/tmp/ipykernel_13234/740806287.py:11: DtypeWarning: Columns (2,9) have mixed types. Specify dtype option on import or set low_memory=False.\n",
      "  for chunk in pd.read_csv(csv_file, chunksize=chunksize):\n"
     ]
    },
    {
     "name": "stdout",
     "output_type": "stream",
     "text": [
      "sampling file rel_batiment_groupe_dvf_open.csv ...\n",
      "sampling file batiment_groupe_dpe_representatif_logement.csv ...\n"
     ]
    },
    {
     "name": "stderr",
     "output_type": "stream",
     "text": [
      "/tmp/ipykernel_13234/740806287.py:11: DtypeWarning: Columns (2) have mixed types. Specify dtype option on import or set low_memory=False.\n",
      "  for chunk in pd.read_csv(csv_file, chunksize=chunksize):\n"
     ]
    },
    {
     "name": "stdout",
     "output_type": "stream",
     "text": [
      "sampling file rel_batiment_groupe_merimee.csv ...\n",
      "sampling file sitadel.csv ...\n"
     ]
    },
    {
     "name": "stderr",
     "output_type": "stream",
     "text": [
      "/tmp/ipykernel_13234/740806287.py:11: DtypeWarning: Columns (1) have mixed types. Specify dtype option on import or set low_memory=False.\n",
      "  for chunk in pd.read_csv(csv_file, chunksize=chunksize):\n",
      "/tmp/ipykernel_13234/740806287.py:11: DtypeWarning: Columns (42) have mixed types. Specify dtype option on import or set low_memory=False.\n",
      "  for chunk in pd.read_csv(csv_file, chunksize=chunksize):\n",
      "/tmp/ipykernel_13234/740806287.py:11: DtypeWarning: Columns (1,20,25,26,27) have mixed types. Specify dtype option on import or set low_memory=False.\n",
      "  for chunk in pd.read_csv(csv_file, chunksize=chunksize):\n",
      "/tmp/ipykernel_13234/740806287.py:11: DtypeWarning: Columns (1,20,25,26,27) have mixed types. Specify dtype option on import or set low_memory=False.\n",
      "  for chunk in pd.read_csv(csv_file, chunksize=chunksize):\n",
      "/tmp/ipykernel_13234/740806287.py:11: DtypeWarning: Columns (1) have mixed types. Specify dtype option on import or set low_memory=False.\n",
      "  for chunk in pd.read_csv(csv_file, chunksize=chunksize):\n",
      "/tmp/ipykernel_13234/740806287.py:11: DtypeWarning: Columns (1,27,42) have mixed types. Specify dtype option on import or set low_memory=False.\n",
      "  for chunk in pd.read_csv(csv_file, chunksize=chunksize):\n",
      "/tmp/ipykernel_13234/740806287.py:11: DtypeWarning: Columns (1,20,25,26,27) have mixed types. Specify dtype option on import or set low_memory=False.\n",
      "  for chunk in pd.read_csv(csv_file, chunksize=chunksize):\n",
      "/tmp/ipykernel_13234/740806287.py:11: DtypeWarning: Columns (8,9,18,19,21,22,42) have mixed types. Specify dtype option on import or set low_memory=False.\n",
      "  for chunk in pd.read_csv(csv_file, chunksize=chunksize):\n",
      "/tmp/ipykernel_13234/740806287.py:11: DtypeWarning: Columns (8,9) have mixed types. Specify dtype option on import or set low_memory=False.\n",
      "  for chunk in pd.read_csv(csv_file, chunksize=chunksize):\n"
     ]
    },
    {
     "name": "stdout",
     "output_type": "stream",
     "text": [
      "sampling file batiment_groupe_merimee.csv ...\n",
      "sampling file rel_batiment_construction_adresse.csv ...\n",
      "sampling file batiment_groupe_bdtopo_bat.csv ...\n",
      "sampling file rel_batiment_groupe_bpe.csv ...\n",
      "sampling file rel_batiment_groupe_qpv.csv ...\n",
      "sampling file dpe_logement.csv ...\n"
     ]
    },
    {
     "name": "stderr",
     "output_type": "stream",
     "text": [
      "/tmp/ipykernel_13234/740806287.py:11: DtypeWarning: Columns (8,17,18,26,29,35,39,42,48,75,76,77,84,85,86,92,93,94,95) have mixed types. Specify dtype option on import or set low_memory=False.\n",
      "  for chunk in pd.read_csv(csv_file, chunksize=chunksize):\n",
      "/tmp/ipykernel_13234/740806287.py:11: DtypeWarning: Columns (35,42) have mixed types. Specify dtype option on import or set low_memory=False.\n",
      "  for chunk in pd.read_csv(csv_file, chunksize=chunksize):\n",
      "/tmp/ipykernel_13234/740806287.py:11: DtypeWarning: Columns (8,17,18,26,29,35,39,42,75,76,77,84,85,86,92,93,94,95) have mixed types. Specify dtype option on import or set low_memory=False.\n",
      "  for chunk in pd.read_csv(csv_file, chunksize=chunksize):\n",
      "/tmp/ipykernel_13234/740806287.py:11: DtypeWarning: Columns (29,35,39,42,84,85) have mixed types. Specify dtype option on import or set low_memory=False.\n",
      "  for chunk in pd.read_csv(csv_file, chunksize=chunksize):\n",
      "/tmp/ipykernel_13234/740806287.py:11: DtypeWarning: Columns (8,17,18,26,29,35,39,42,75,76,77,84,85,86,92,93,94,95) have mixed types. Specify dtype option on import or set low_memory=False.\n",
      "  for chunk in pd.read_csv(csv_file, chunksize=chunksize):\n",
      "/tmp/ipykernel_13234/740806287.py:11: DtypeWarning: Columns (8,17,18,26,29,35,39,42,75,76,77,84,85,86,92,93,94,95) have mixed types. Specify dtype option on import or set low_memory=False.\n",
      "  for chunk in pd.read_csv(csv_file, chunksize=chunksize):\n",
      "/tmp/ipykernel_13234/740806287.py:11: DtypeWarning: Columns (35,42) have mixed types. Specify dtype option on import or set low_memory=False.\n",
      "  for chunk in pd.read_csv(csv_file, chunksize=chunksize):\n",
      "/tmp/ipykernel_13234/740806287.py:11: DtypeWarning: Columns (29,35,42,84,85) have mixed types. Specify dtype option on import or set low_memory=False.\n",
      "  for chunk in pd.read_csv(csv_file, chunksize=chunksize):\n",
      "/tmp/ipykernel_13234/740806287.py:11: DtypeWarning: Columns (19,20,42,70) have mixed types. Specify dtype option on import or set low_memory=False.\n",
      "  for chunk in pd.read_csv(csv_file, chunksize=chunksize):\n",
      "/tmp/ipykernel_13234/740806287.py:11: DtypeWarning: Columns (19,20,70) have mixed types. Specify dtype option on import or set low_memory=False.\n",
      "  for chunk in pd.read_csv(csv_file, chunksize=chunksize):\n",
      "/tmp/ipykernel_13234/740806287.py:11: DtypeWarning: Columns (19,20,35,70) have mixed types. Specify dtype option on import or set low_memory=False.\n",
      "  for chunk in pd.read_csv(csv_file, chunksize=chunksize):\n",
      "/tmp/ipykernel_13234/740806287.py:11: DtypeWarning: Columns (19,20,70) have mixed types. Specify dtype option on import or set low_memory=False.\n",
      "  for chunk in pd.read_csv(csv_file, chunksize=chunksize):\n",
      "/tmp/ipykernel_13234/740806287.py:11: DtypeWarning: Columns (19,20,26,29,35,39,42,70,92,93) have mixed types. Specify dtype option on import or set low_memory=False.\n",
      "  for chunk in pd.read_csv(csv_file, chunksize=chunksize):\n",
      "/tmp/ipykernel_13234/740806287.py:11: DtypeWarning: Columns (29,35,42,84,85) have mixed types. Specify dtype option on import or set low_memory=False.\n",
      "  for chunk in pd.read_csv(csv_file, chunksize=chunksize):\n",
      "/tmp/ipykernel_13234/740806287.py:11: DtypeWarning: Columns (19,20,70) have mixed types. Specify dtype option on import or set low_memory=False.\n",
      "  for chunk in pd.read_csv(csv_file, chunksize=chunksize):\n",
      "/tmp/ipykernel_13234/740806287.py:11: DtypeWarning: Columns (29,35,70) have mixed types. Specify dtype option on import or set low_memory=False.\n",
      "  for chunk in pd.read_csv(csv_file, chunksize=chunksize):\n",
      "/tmp/ipykernel_13234/740806287.py:11: DtypeWarning: Columns (19,20,70) have mixed types. Specify dtype option on import or set low_memory=False.\n",
      "  for chunk in pd.read_csv(csv_file, chunksize=chunksize):\n",
      "/tmp/ipykernel_13234/740806287.py:11: DtypeWarning: Columns (35,42) have mixed types. Specify dtype option on import or set low_memory=False.\n",
      "  for chunk in pd.read_csv(csv_file, chunksize=chunksize):\n",
      "/tmp/ipykernel_13234/740806287.py:11: DtypeWarning: Columns (1) have mixed types. Specify dtype option on import or set low_memory=False.\n",
      "  for chunk in pd.read_csv(csv_file, chunksize=chunksize):\n",
      "/tmp/ipykernel_13234/740806287.py:11: DtypeWarning: Columns (35,42) have mixed types. Specify dtype option on import or set low_memory=False.\n",
      "  for chunk in pd.read_csv(csv_file, chunksize=chunksize):\n",
      "/tmp/ipykernel_13234/740806287.py:11: DtypeWarning: Columns (29,35,42) have mixed types. Specify dtype option on import or set low_memory=False.\n",
      "  for chunk in pd.read_csv(csv_file, chunksize=chunksize):\n",
      "/tmp/ipykernel_13234/740806287.py:11: DtypeWarning: Columns (42) have mixed types. Specify dtype option on import or set low_memory=False.\n",
      "  for chunk in pd.read_csv(csv_file, chunksize=chunksize):\n",
      "/tmp/ipykernel_13234/740806287.py:11: DtypeWarning: Columns (35,42) have mixed types. Specify dtype option on import or set low_memory=False.\n",
      "  for chunk in pd.read_csv(csv_file, chunksize=chunksize):\n",
      "/tmp/ipykernel_13234/740806287.py:11: DtypeWarning: Columns (35,42) have mixed types. Specify dtype option on import or set low_memory=False.\n",
      "  for chunk in pd.read_csv(csv_file, chunksize=chunksize):\n",
      "/tmp/ipykernel_13234/740806287.py:11: DtypeWarning: Columns (29,35,42,84,85,92,93) have mixed types. Specify dtype option on import or set low_memory=False.\n",
      "  for chunk in pd.read_csv(csv_file, chunksize=chunksize):\n",
      "/tmp/ipykernel_13234/740806287.py:11: DtypeWarning: Columns (35,42) have mixed types. Specify dtype option on import or set low_memory=False.\n",
      "  for chunk in pd.read_csv(csv_file, chunksize=chunksize):\n",
      "/tmp/ipykernel_13234/740806287.py:11: DtypeWarning: Columns (35,42) have mixed types. Specify dtype option on import or set low_memory=False.\n",
      "  for chunk in pd.read_csv(csv_file, chunksize=chunksize):\n",
      "/tmp/ipykernel_13234/740806287.py:11: DtypeWarning: Columns (29,35,42) have mixed types. Specify dtype option on import or set low_memory=False.\n",
      "  for chunk in pd.read_csv(csv_file, chunksize=chunksize):\n",
      "/tmp/ipykernel_13234/740806287.py:11: DtypeWarning: Columns (26,29,35,39,42,75,76,84,85) have mixed types. Specify dtype option on import or set low_memory=False.\n",
      "  for chunk in pd.read_csv(csv_file, chunksize=chunksize):\n",
      "/tmp/ipykernel_13234/740806287.py:11: DtypeWarning: Columns (29,35,42,84,85,92,93) have mixed types. Specify dtype option on import or set low_memory=False.\n",
      "  for chunk in pd.read_csv(csv_file, chunksize=chunksize):\n",
      "/tmp/ipykernel_13234/740806287.py:11: DtypeWarning: Columns (35,42) have mixed types. Specify dtype option on import or set low_memory=False.\n",
      "  for chunk in pd.read_csv(csv_file, chunksize=chunksize):\n",
      "/tmp/ipykernel_13234/740806287.py:11: DtypeWarning: Columns (8,17,18,26,29,35,39,42,75,76,77,84,85,86,92,93,94,95) have mixed types. Specify dtype option on import or set low_memory=False.\n",
      "  for chunk in pd.read_csv(csv_file, chunksize=chunksize):\n",
      "/tmp/ipykernel_13234/740806287.py:11: DtypeWarning: Columns (35) have mixed types. Specify dtype option on import or set low_memory=False.\n",
      "  for chunk in pd.read_csv(csv_file, chunksize=chunksize):\n",
      "/tmp/ipykernel_13234/740806287.py:11: DtypeWarning: Columns (19,20,70) have mixed types. Specify dtype option on import or set low_memory=False.\n",
      "  for chunk in pd.read_csv(csv_file, chunksize=chunksize):\n",
      "/tmp/ipykernel_13234/740806287.py:11: DtypeWarning: Columns (19,20,35,70) have mixed types. Specify dtype option on import or set low_memory=False.\n",
      "  for chunk in pd.read_csv(csv_file, chunksize=chunksize):\n",
      "/tmp/ipykernel_13234/740806287.py:11: DtypeWarning: Columns (19,20,70) have mixed types. Specify dtype option on import or set low_memory=False.\n",
      "  for chunk in pd.read_csv(csv_file, chunksize=chunksize):\n",
      "/tmp/ipykernel_13234/740806287.py:11: DtypeWarning: Columns (35) have mixed types. Specify dtype option on import or set low_memory=False.\n",
      "  for chunk in pd.read_csv(csv_file, chunksize=chunksize):\n",
      "/tmp/ipykernel_13234/740806287.py:11: DtypeWarning: Columns (42) have mixed types. Specify dtype option on import or set low_memory=False.\n",
      "  for chunk in pd.read_csv(csv_file, chunksize=chunksize):\n",
      "/tmp/ipykernel_13234/740806287.py:11: DtypeWarning: Columns (8,17,18,26,29,35,39,42,48,75,76,77,84,85,86,92,93,94,95) have mixed types. Specify dtype option on import or set low_memory=False.\n",
      "  for chunk in pd.read_csv(csv_file, chunksize=chunksize):\n",
      "/tmp/ipykernel_13234/740806287.py:11: DtypeWarning: Columns (8,17,18,26,29,35,39,42,48,75,76,77,84,85,86,92,93,94,95) have mixed types. Specify dtype option on import or set low_memory=False.\n",
      "  for chunk in pd.read_csv(csv_file, chunksize=chunksize):\n",
      "/tmp/ipykernel_13234/740806287.py:11: DtypeWarning: Columns (8,17,18,26,29,35,39,42,48,75,76,77,84,85,86,92,93,94,95) have mixed types. Specify dtype option on import or set low_memory=False.\n",
      "  for chunk in pd.read_csv(csv_file, chunksize=chunksize):\n",
      "/tmp/ipykernel_13234/740806287.py:11: DtypeWarning: Columns (19,20,70) have mixed types. Specify dtype option on import or set low_memory=False.\n",
      "  for chunk in pd.read_csv(csv_file, chunksize=chunksize):\n",
      "/tmp/ipykernel_13234/740806287.py:11: DtypeWarning: Columns (19,20,70) have mixed types. Specify dtype option on import or set low_memory=False.\n",
      "  for chunk in pd.read_csv(csv_file, chunksize=chunksize):\n",
      "/tmp/ipykernel_13234/740806287.py:11: DtypeWarning: Columns (35,42) have mixed types. Specify dtype option on import or set low_memory=False.\n",
      "  for chunk in pd.read_csv(csv_file, chunksize=chunksize):\n",
      "/tmp/ipykernel_13234/740806287.py:11: DtypeWarning: Columns (35,42) have mixed types. Specify dtype option on import or set low_memory=False.\n",
      "  for chunk in pd.read_csv(csv_file, chunksize=chunksize):\n",
      "/tmp/ipykernel_13234/740806287.py:11: DtypeWarning: Columns (35) have mixed types. Specify dtype option on import or set low_memory=False.\n",
      "  for chunk in pd.read_csv(csv_file, chunksize=chunksize):\n",
      "/tmp/ipykernel_13234/740806287.py:11: DtypeWarning: Columns (8,17,18,26,29,35,39,42,75,76,77,84,85,86,92,93,94,95) have mixed types. Specify dtype option on import or set low_memory=False.\n",
      "  for chunk in pd.read_csv(csv_file, chunksize=chunksize):\n",
      "/tmp/ipykernel_13234/740806287.py:11: DtypeWarning: Columns (8,17,18,26,29,35,39,42,75,76,77,84,85,86,92,93,94,95) have mixed types. Specify dtype option on import or set low_memory=False.\n",
      "  for chunk in pd.read_csv(csv_file, chunksize=chunksize):\n",
      "/tmp/ipykernel_13234/740806287.py:11: DtypeWarning: Columns (35) have mixed types. Specify dtype option on import or set low_memory=False.\n",
      "  for chunk in pd.read_csv(csv_file, chunksize=chunksize):\n",
      "/tmp/ipykernel_13234/740806287.py:11: DtypeWarning: Columns (35,42) have mixed types. Specify dtype option on import or set low_memory=False.\n",
      "  for chunk in pd.read_csv(csv_file, chunksize=chunksize):\n",
      "/tmp/ipykernel_13234/740806287.py:11: DtypeWarning: Columns (35,42) have mixed types. Specify dtype option on import or set low_memory=False.\n",
      "  for chunk in pd.read_csv(csv_file, chunksize=chunksize):\n",
      "/tmp/ipykernel_13234/740806287.py:11: DtypeWarning: Columns (35,42) have mixed types. Specify dtype option on import or set low_memory=False.\n",
      "  for chunk in pd.read_csv(csv_file, chunksize=chunksize):\n",
      "/tmp/ipykernel_13234/740806287.py:11: DtypeWarning: Columns (29,35,42,84,85) have mixed types. Specify dtype option on import or set low_memory=False.\n",
      "  for chunk in pd.read_csv(csv_file, chunksize=chunksize):\n",
      "/tmp/ipykernel_13234/740806287.py:11: DtypeWarning: Columns (35,42) have mixed types. Specify dtype option on import or set low_memory=False.\n",
      "  for chunk in pd.read_csv(csv_file, chunksize=chunksize):\n",
      "/tmp/ipykernel_13234/740806287.py:11: DtypeWarning: Columns (8,17,18,26,29,35,39,42,75,76,77,84,85,86,92,93,94,95) have mixed types. Specify dtype option on import or set low_memory=False.\n",
      "  for chunk in pd.read_csv(csv_file, chunksize=chunksize):\n",
      "/tmp/ipykernel_13234/740806287.py:11: DtypeWarning: Columns (35) have mixed types. Specify dtype option on import or set low_memory=False.\n",
      "  for chunk in pd.read_csv(csv_file, chunksize=chunksize):\n",
      "/tmp/ipykernel_13234/740806287.py:11: DtypeWarning: Columns (8,17,18,26,29,35,39,42,75,76,77,84,85,86,92,93,94,95) have mixed types. Specify dtype option on import or set low_memory=False.\n",
      "  for chunk in pd.read_csv(csv_file, chunksize=chunksize):\n",
      "/tmp/ipykernel_13234/740806287.py:11: DtypeWarning: Columns (8,17,18,26,29,35,39,42,75,76,77,84,85,86,92,93,94,95) have mixed types. Specify dtype option on import or set low_memory=False.\n",
      "  for chunk in pd.read_csv(csv_file, chunksize=chunksize):\n",
      "/tmp/ipykernel_13234/740806287.py:11: DtypeWarning: Columns (35,42) have mixed types. Specify dtype option on import or set low_memory=False.\n",
      "  for chunk in pd.read_csv(csv_file, chunksize=chunksize):\n",
      "/tmp/ipykernel_13234/740806287.py:11: DtypeWarning: Columns (35) have mixed types. Specify dtype option on import or set low_memory=False.\n",
      "  for chunk in pd.read_csv(csv_file, chunksize=chunksize):\n",
      "/tmp/ipykernel_13234/740806287.py:11: DtypeWarning: Columns (19,20,70) have mixed types. Specify dtype option on import or set low_memory=False.\n",
      "  for chunk in pd.read_csv(csv_file, chunksize=chunksize):\n",
      "/tmp/ipykernel_13234/740806287.py:11: DtypeWarning: Columns (29,35,42) have mixed types. Specify dtype option on import or set low_memory=False.\n",
      "  for chunk in pd.read_csv(csv_file, chunksize=chunksize):\n",
      "/tmp/ipykernel_13234/740806287.py:11: DtypeWarning: Columns (8,17,18,26,29,35,39,42,75,76,77,84,85,86,92,93,94,95) have mixed types. Specify dtype option on import or set low_memory=False.\n",
      "  for chunk in pd.read_csv(csv_file, chunksize=chunksize):\n",
      "/tmp/ipykernel_13234/740806287.py:11: DtypeWarning: Columns (8,17,18,26,29,35,39,42,75,76,77,84,85,86,92,93,94,95) have mixed types. Specify dtype option on import or set low_memory=False.\n",
      "  for chunk in pd.read_csv(csv_file, chunksize=chunksize):\n",
      "/tmp/ipykernel_13234/740806287.py:11: DtypeWarning: Columns (8,17,18,19,20,26,29,35,39,42,70,75,76,77,84,85,86,92,93,94,95) have mixed types. Specify dtype option on import or set low_memory=False.\n",
      "  for chunk in pd.read_csv(csv_file, chunksize=chunksize):\n",
      "/tmp/ipykernel_13234/740806287.py:11: DtypeWarning: Columns (19,20,70) have mixed types. Specify dtype option on import or set low_memory=False.\n",
      "  for chunk in pd.read_csv(csv_file, chunksize=chunksize):\n",
      "/tmp/ipykernel_13234/740806287.py:11: DtypeWarning: Columns (8,17,18,19,20,26,29,35,39,42,70,75,76,77,84,85,86,92,93,94,95) have mixed types. Specify dtype option on import or set low_memory=False.\n",
      "  for chunk in pd.read_csv(csv_file, chunksize=chunksize):\n",
      "/tmp/ipykernel_13234/740806287.py:11: DtypeWarning: Columns (8,17,18,19,20,26,29,35,39,42,70,75,76,77,84,85,86,92,93,94,95) have mixed types. Specify dtype option on import or set low_memory=False.\n",
      "  for chunk in pd.read_csv(csv_file, chunksize=chunksize):\n",
      "/tmp/ipykernel_13234/740806287.py:11: DtypeWarning: Columns (19,20,35,70) have mixed types. Specify dtype option on import or set low_memory=False.\n",
      "  for chunk in pd.read_csv(csv_file, chunksize=chunksize):\n",
      "/tmp/ipykernel_13234/740806287.py:11: DtypeWarning: Columns (19,20,70) have mixed types. Specify dtype option on import or set low_memory=False.\n",
      "  for chunk in pd.read_csv(csv_file, chunksize=chunksize):\n",
      "/tmp/ipykernel_13234/740806287.py:11: DtypeWarning: Columns (8,17,18,19,20,26,29,35,39,42,70,75,76,77,84,85,86,92,93,94,95) have mixed types. Specify dtype option on import or set low_memory=False.\n",
      "  for chunk in pd.read_csv(csv_file, chunksize=chunksize):\n",
      "/tmp/ipykernel_13234/740806287.py:11: DtypeWarning: Columns (8,17,18,26,29,35,39,42,75,76,77,84,85,86,92,93,94,95) have mixed types. Specify dtype option on import or set low_memory=False.\n",
      "  for chunk in pd.read_csv(csv_file, chunksize=chunksize):\n",
      "/tmp/ipykernel_13234/740806287.py:11: DtypeWarning: Columns (8,17,18,26,29,35,39,42,75,76,77,84,85,86,92,93,94,95) have mixed types. Specify dtype option on import or set low_memory=False.\n",
      "  for chunk in pd.read_csv(csv_file, chunksize=chunksize):\n",
      "/tmp/ipykernel_13234/740806287.py:11: DtypeWarning: Columns (19,20,70) have mixed types. Specify dtype option on import or set low_memory=False.\n",
      "  for chunk in pd.read_csv(csv_file, chunksize=chunksize):\n",
      "/tmp/ipykernel_13234/740806287.py:11: DtypeWarning: Columns (8,17,18,26,29,35,39,42,75,76,77,84,85,86,92,93,94,95) have mixed types. Specify dtype option on import or set low_memory=False.\n",
      "  for chunk in pd.read_csv(csv_file, chunksize=chunksize):\n",
      "/tmp/ipykernel_13234/740806287.py:11: DtypeWarning: Columns (8,17,18,26,29,35,39,42,75,76,77,84,85,86,92,93,94,95) have mixed types. Specify dtype option on import or set low_memory=False.\n",
      "  for chunk in pd.read_csv(csv_file, chunksize=chunksize):\n",
      "/tmp/ipykernel_13234/740806287.py:11: DtypeWarning: Columns (8,17,18,19,20,26,29,35,39,42,70,75,76,77,84,85,86,92,93,94,95) have mixed types. Specify dtype option on import or set low_memory=False.\n",
      "  for chunk in pd.read_csv(csv_file, chunksize=chunksize):\n",
      "/tmp/ipykernel_13234/740806287.py:11: DtypeWarning: Columns (8,17,18,19,20,26,29,35,39,42,70,75,76,77,84,85,86,92,93,94,95) have mixed types. Specify dtype option on import or set low_memory=False.\n",
      "  for chunk in pd.read_csv(csv_file, chunksize=chunksize):\n",
      "/tmp/ipykernel_13234/740806287.py:11: DtypeWarning: Columns (19,20,70) have mixed types. Specify dtype option on import or set low_memory=False.\n",
      "  for chunk in pd.read_csv(csv_file, chunksize=chunksize):\n"
     ]
    },
    {
     "name": "stdout",
     "output_type": "stream",
     "text": [
      "sampling file batiment_groupe_adresse.csv ...\n",
      "sampling file parcelle_sitadel.csv ...\n"
     ]
    },
    {
     "name": "stderr",
     "output_type": "stream",
     "text": [
      "/tmp/ipykernel_13234/740806287.py:11: DtypeWarning: Columns (1) have mixed types. Specify dtype option on import or set low_memory=False.\n",
      "  for chunk in pd.read_csv(csv_file, chunksize=chunksize):\n",
      "/tmp/ipykernel_13234/740806287.py:11: DtypeWarning: Columns (1) have mixed types. Specify dtype option on import or set low_memory=False.\n",
      "  for chunk in pd.read_csv(csv_file, chunksize=chunksize):\n",
      "/tmp/ipykernel_13234/740806287.py:11: DtypeWarning: Columns (1) have mixed types. Specify dtype option on import or set low_memory=False.\n",
      "  for chunk in pd.read_csv(csv_file, chunksize=chunksize):\n",
      "/tmp/ipykernel_13234/740806287.py:11: DtypeWarning: Columns (1) have mixed types. Specify dtype option on import or set low_memory=False.\n",
      "  for chunk in pd.read_csv(csv_file, chunksize=chunksize):\n",
      "/tmp/ipykernel_13234/740806287.py:11: DtypeWarning: Columns (1) have mixed types. Specify dtype option on import or set low_memory=False.\n",
      "  for chunk in pd.read_csv(csv_file, chunksize=chunksize):\n",
      "/tmp/ipykernel_13234/740806287.py:11: DtypeWarning: Columns (1) have mixed types. Specify dtype option on import or set low_memory=False.\n",
      "  for chunk in pd.read_csv(csv_file, chunksize=chunksize):\n",
      "/tmp/ipykernel_13234/740806287.py:11: DtypeWarning: Columns (1) have mixed types. Specify dtype option on import or set low_memory=False.\n",
      "  for chunk in pd.read_csv(csv_file, chunksize=chunksize):\n",
      "/tmp/ipykernel_13234/740806287.py:11: DtypeWarning: Columns (1) have mixed types. Specify dtype option on import or set low_memory=False.\n",
      "  for chunk in pd.read_csv(csv_file, chunksize=chunksize):\n",
      "/tmp/ipykernel_13234/740806287.py:11: DtypeWarning: Columns (1) have mixed types. Specify dtype option on import or set low_memory=False.\n",
      "  for chunk in pd.read_csv(csv_file, chunksize=chunksize):\n",
      "/tmp/ipykernel_13234/740806287.py:11: DtypeWarning: Columns (1) have mixed types. Specify dtype option on import or set low_memory=False.\n",
      "  for chunk in pd.read_csv(csv_file, chunksize=chunksize):\n",
      "/tmp/ipykernel_13234/740806287.py:11: DtypeWarning: Columns (1) have mixed types. Specify dtype option on import or set low_memory=False.\n",
      "  for chunk in pd.read_csv(csv_file, chunksize=chunksize):\n",
      "/tmp/ipykernel_13234/740806287.py:11: DtypeWarning: Columns (1) have mixed types. Specify dtype option on import or set low_memory=False.\n",
      "  for chunk in pd.read_csv(csv_file, chunksize=chunksize):\n",
      "/tmp/ipykernel_13234/740806287.py:11: DtypeWarning: Columns (1) have mixed types. Specify dtype option on import or set low_memory=False.\n",
      "  for chunk in pd.read_csv(csv_file, chunksize=chunksize):\n",
      "/tmp/ipykernel_13234/740806287.py:11: DtypeWarning: Columns (1) have mixed types. Specify dtype option on import or set low_memory=False.\n",
      "  for chunk in pd.read_csv(csv_file, chunksize=chunksize):\n",
      "/tmp/ipykernel_13234/740806287.py:11: DtypeWarning: Columns (1) have mixed types. Specify dtype option on import or set low_memory=False.\n",
      "  for chunk in pd.read_csv(csv_file, chunksize=chunksize):\n",
      "/tmp/ipykernel_13234/740806287.py:11: DtypeWarning: Columns (1) have mixed types. Specify dtype option on import or set low_memory=False.\n",
      "  for chunk in pd.read_csv(csv_file, chunksize=chunksize):\n"
     ]
    },
    {
     "name": "stdout",
     "output_type": "stream",
     "text": [
      "sampling file rel_batiment_groupe_bdtopo_zoa.csv ...\n",
      "sampling file rel_batiment_groupe_bdtopo_equ.csv ...\n",
      "sampling file batiment_groupe_rnc.csv ...\n",
      "sampling file batiment_groupe_dvf_open_representatif.csv ...\n",
      "sampling file batiment_groupe_bdtopo_zoac.csv ...\n",
      "sampling file batiment_groupe_hthd.csv ...\n",
      "sampling file parcelle.csv ...\n",
      "sampling file rel_parcelle_sitadel.csv ...\n",
      "sampling file batiment_construction.csv ...\n",
      "sampling file batiment_groupe_dle_reseaux_multimillesime.csv ...\n",
      "sampling file batiment_groupe_rpls.csv ...\n"
     ]
    },
    {
     "name": "stderr",
     "output_type": "stream",
     "text": [
      "/tmp/ipykernel_13234/740806287.py:11: DtypeWarning: Columns (1) have mixed types. Specify dtype option on import or set low_memory=False.\n",
      "  for chunk in pd.read_csv(csv_file, chunksize=chunksize):\n"
     ]
    },
    {
     "name": "stdout",
     "output_type": "stream",
     "text": [
      "sampling file rel_batiment_groupe_dpe_logement.csv ...\n",
      "sampling file rel_batiment_groupe_rnc.csv ...\n",
      "sampling file batiment_groupe_geospx.csv ...\n",
      "sampling file batiment_groupe_qpv.csv ...\n"
     ]
    }
   ],
   "source": [
    "sample_directory(\"/var/tmp/csv\", \"/var/tmp/csv_sample\")"
   ]
  },
  {
   "cell_type": "markdown",
   "id": "3ca8f590",
   "metadata": {},
   "source": [
    "comptons les lignes de quelques fichiers"
   ]
  },
  {
   "cell_type": "code",
   "execution_count": null,
   "id": "a8572eb6",
   "metadata": {},
   "outputs": [
    {
     "name": "stdout",
     "output_type": "stream",
     "text": [
      "93123688 /var/tmp/csv/parcelle.csv\n"
     ]
    }
   ],
   "source": [
    "! wc -l /var/tmp/csv/parcelle.csv"
   ]
  },
  {
   "cell_type": "code",
   "execution_count": null,
   "id": "f927ce3c",
   "metadata": {},
   "outputs": [],
   "source": []
  }
 ],
 "metadata": {
  "kernelspec": {
   "display_name": "my_env",
   "language": "python",
   "name": "python3"
  },
  "language_info": {
   "codemirror_mode": {
    "name": "ipython",
    "version": 3
   },
   "file_extension": ".py",
   "mimetype": "text/x-python",
   "name": "python",
   "nbconvert_exporter": "python",
   "pygments_lexer": "ipython3",
   "version": "3.10.12"
  }
 },
 "nbformat": 4,
 "nbformat_minor": 5
}
